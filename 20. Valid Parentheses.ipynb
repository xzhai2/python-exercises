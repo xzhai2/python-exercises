{
 "cells": [
  {
   "cell_type": "code",
   "execution_count": null,
   "metadata": {},
   "outputs": [],
   "source": [
    "# use stack if left parenthesis shows up, append the stack. \n",
    "# # if stack is empty, i.e. the first parentheses is a right one, or the i-1 th one in stack is not the corresponding left parentheses \n",
    "# (by checking the dictionary that maps right parentheses to left ones, then return False.   \n",
    "class Solution:\n",
    "        # @param {string} s\n",
    "        # @return {boolean}\n",
    "        def isValid(self, s):\n",
    "            stack=[]\n",
    "            for i in s:\n",
    "                if i in ['(','[','{']:\n",
    "                    stack.append(i)\n",
    "                else:\n",
    "                    if not stack or {')':'(',']':'[','}':'{'}[i]!=stack[-1]: \n",
    "                        return False\n",
    "                    stack.pop() # if the parentheses matches a pair, remove the matched left parentheses from the stack and check the next parentheses.\n",
    "            return not stack\n"
   ]
  }
 ],
 "metadata": {
  "kernelspec": {
   "display_name": "Python 3",
   "language": "python",
   "name": "python3"
  },
  "language_info": {
   "codemirror_mode": {
    "name": "ipython",
    "version": 3
   },
   "file_extension": ".py",
   "mimetype": "text/x-python",
   "name": "python",
   "nbconvert_exporter": "python",
   "pygments_lexer": "ipython3",
   "version": "3.6.5"
  }
 },
 "nbformat": 4,
 "nbformat_minor": 2
}
