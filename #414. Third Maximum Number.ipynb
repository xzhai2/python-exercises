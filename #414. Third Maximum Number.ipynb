{
 "cells": [
  {
   "cell_type": "code",
   "execution_count": null,
   "metadata": {},
   "outputs": [],
   "source": [
    "#414. Third Maximum Number\n",
    "class Solution(object):\n",
    "    def thirdMax(self, nums):\n",
    "        v = [float('-inf'), float('-inf'), float('-inf')]\n",
    "        for num in nums: # only run one iteration. TC: O(n)\n",
    "            if num not in v:\n",
    "                if num > v[0]:   v = [num, v[0], v[1]]\n",
    "                elif num > v[1]: v = [v[0], num, v[1]]\n",
    "                elif num > v[2]: v = [v[0], v[1], num]\n",
    "        return max(nums) if float('-inf') in v else v[2]"
   ]
  }
 ],
 "metadata": {
  "kernelspec": {
   "display_name": "Python 3",
   "language": "python",
   "name": "python3"
  },
  "language_info": {
   "codemirror_mode": {
    "name": "ipython",
    "version": 3
   },
   "file_extension": ".py",
   "mimetype": "text/x-python",
   "name": "python",
   "nbconvert_exporter": "python",
   "pygments_lexer": "ipython3",
   "version": "3.6.6"
  }
 },
 "nbformat": 4,
 "nbformat_minor": 2
}
